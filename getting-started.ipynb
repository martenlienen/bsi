{
 "cells": [
  {
   "cell_type": "markdown",
   "id": "a4c9546d-4a08-4e08-b19f-302373ecdf2d",
   "metadata": {},
   "source": [
    "# Bayesian Sample Inference\n",
    "\n",
    "This self-contained notebook contains a complete implementation of [BSI](https://arxiv.org/abs/2502.07580) for interactive exploration and understanding of the model. It will show you how to compute the training loss and train a small model on your machine. Then, we will compute the log-likelihood of an unseen data point in bits per dimension and generate new samples with our model.\n",
    "\n",
    "The code in this notebook is minimal to focus on the core of the method. To use BSI in your own project, we recommend that you copy [bsi.py](./bsi/bsi.py) and use it as demonstrated in the [README](./README.md#getting-started).\n",
    "\n",
    "We use [pytorch](https://pytorch.org) as the deep learning framework, [einops](https://einops.rocks) for natural shape manipulation of tensors, torchvision to load an example dataset, [jaxtyping](https://github.com/patrick-kidger/jaxtyping) to annotate the shapes of tensors, [tqdm](https://github.com/tqdm/tqdm) to indicate training progress, [numpy](https://numpy.org/) for math utilities and [matplotlib](https://matplotlib.org/) to visualize samples. You can install them into your current environment by running the following cell."
   ]
  },
  {
   "cell_type": "code",
   "execution_count": 1,
   "id": "04b5f9b1-856f-45f2-ba45-8f12cbfcd030",
   "metadata": {},
   "outputs": [
    {
     "name": "stdout",
     "output_type": "stream",
     "text": []
    }
   ],
   "source": [
    "%pip install torch torchvision einops jaxtyping tqdm numpy matplotlib"
   ]
  },
  {
   "cell_type": "code",
   "execution_count": 2,
   "id": "af9e4913-1059-49ba-9139-e5b817149125",
   "metadata": {},
   "outputs": [],
   "source": [
    "import math\n",
    "from dataclasses import dataclass\n",
    "\n",
    "import einops as eo\n",
    "import numpy as np\n",
    "import torch\n",
    "import torch.nn.functional as F\n",
    "from einops.layers.torch import Rearrange\n",
    "from jaxtyping import Float, Int\n",
    "from matplotlib.pyplot import imshow\n",
    "from torch import Tensor, nn\n",
    "from torch.distributions import Normal\n",
    "from torch.utils.data import DataLoader\n",
    "from torchvision.datasets import CIFAR10\n",
    "from torchvision.transforms import v2\n",
    "from torchvision.utils import make_grid\n",
    "from tqdm.notebook import tqdm"
   ]
  },
  {
   "cell_type": "markdown",
   "id": "f81e6a19-fb77-4c6a-bfbf-e03341f2f265",
   "metadata": {},
   "source": [
    "## Utilities\n",
    "\n",
    "Normal tensor broadcasting in pytorch (and numpy) matches dimensions from right to left, broadcasting towards the left. However, the right-most dimensions are things like image coordinates and channels and we often want to, for example, multiply onto a batch of images where we have a coefficient for each image in a batch. The following extends a tensor as if we were broadcasting from the left towards the right to accomplish this."
   ]
  },
  {
   "cell_type": "code",
   "execution_count": 3,
   "id": "e83a3d17-8018-47dc-9254-bf19ff113252",
   "metadata": {},
   "outputs": [],
   "source": [
    "def broadcast_right(x: Tensor, other: Tensor) -> Tensor:\n",
    "    \"\"\"Unsqueeze `x` to the right so that it broadcasts against `other`.\"\"\"\n",
    "    assert other.ndim >= x.ndim\n",
    "    return x.reshape(*x.shape, *((1,) * (other.ndim - x.ndim)))"
   ]
  },
  {
   "cell_type": "markdown",
   "id": "b342f61e-45c6-41dd-90ee-8e8d9ce1c916",
   "metadata": {},
   "source": [
    "Furthermore, it will be useful to have a small class for a log-uniform distribution that quickly lets us access its CDF, inverse CDF and the (reciprocal of the) PDF. Getting the reciprocal is just very convenient for this distribution and since we end up dividing by the PDF anyway, this lets us exchange a division for a cheaper multiplication operation."
   ]
  },
  {
   "cell_type": "code",
   "execution_count": 4,
   "id": "edb79be2-7175-46c1-a48a-482516c0d5d7",
   "metadata": {
    "jupyter": {
     "source_hidden": true
    }
   },
   "outputs": [],
   "source": [
    "class LogUniform:\n",
    "    def __init__(self, low: float, high: float):\n",
    "        self.low = low\n",
    "        self.high = high\n",
    "\n",
    "        self.ln_low = math.log(self.low)\n",
    "        self.ln_high = math.log(self.high)\n",
    "        self.diff_ln_high_ln_low = self.ln_high - self.ln_low\n",
    "\n",
    "    def reciprocal_pdf(self, value: Float[Tensor, \"...\"]) -> Float[Tensor, \"...\"]:\n",
    "        \"\"\"Return the reciprocal probability density at `value`.\"\"\"\n",
    "        return value * self.diff_ln_high_ln_low\n",
    "\n",
    "    def cdf(self, value: Float[Tensor, \"...\"]) -> Float[Tensor, \"...\"]:\n",
    "        return (torch.log(value) - self.ln_low) / self.diff_ln_high_ln_low\n",
    "\n",
    "    def icdf(self, quantile: Float[Tensor, \"...\"]) -> Float[Tensor, \"...\"]:\n",
    "        return torch.exp(self.diff_ln_high_ln_low * quantile + self.ln_low)"
   ]
  },
  {
   "cell_type": "markdown",
   "id": "3a5cd77d-6d7e-49f0-a64d-6d62d760cdcc",
   "metadata": {},
   "source": [
    "Finally, a small utility class to represent the discretization of discretized data that will be helpful when we compute the ELBO."
   ]
  },
  {
   "cell_type": "code",
   "execution_count": 5,
   "id": "629351d6-45b5-43a0-a1ed-b07e7e34a995",
   "metadata": {
    "jupyter": {
     "source_hidden": true
    }
   },
   "outputs": [],
   "source": [
    "@dataclass\n",
    "class Discretization:\n",
    "    \"\"\"A discretization of the interval [min, max] into k bins.\n",
    "\n",
    "    The bins are open on the right and centered on `min + (max - min) * (i - 1) / (k -\n",
    "    1)` for `i = 1..k`.\n",
    "    \"\"\"\n",
    "\n",
    "    min: float\n",
    "    max: float\n",
    "    k: int\n",
    "\n",
    "    @classmethod\n",
    "    def image_8bit(cls):\n",
    "        \"\"\"Discretization of 8-bit images rescaled to the [-1, 1] interval.\"\"\"\n",
    "        return cls(-1.0, 1.0, 256)\n",
    "\n",
    "    def bin_boundaries(self, device: torch.device, dtype: torch.dtype):\n",
    "        dx = self.dx\n",
    "        range_ = (self.min - dx / 2, self.max + dx / 2)\n",
    "        return torch.linspace(*range_, self.k + 1, device=device, dtype=dtype)\n",
    "\n",
    "    def bucketize(self, x: Float[Tensor, \"...\"]) -> Int[Tensor, \"...\"]:\n",
    "        \"\"\"Find the discrete bucket index of continuous values in the [min, max] range.\"\"\"\n",
    "        dx = self.dx\n",
    "        return ((x - (self.min - dx / 2)) / dx).to(torch.int64).clamp(0, self.k - 1)\n",
    "\n",
    "    @property\n",
    "    def dx(self) -> float:\n",
    "        \"\"\"Width of a single bin.\"\"\"\n",
    "        return (self.max - self.min) / (self.k - 1)"
   ]
  },
  {
   "attachments": {},
   "cell_type": "markdown",
   "id": "f5ebf9dd-257c-4f9e-a6c0-d1857d0f8fc1",
   "metadata": {},
   "source": [
    "## DiT backbone\n",
    "\n",
    "We begin with implementing a [diffusion transformer](http://arxiv.org/abs/2212.09748) (DiT) as the underlying neural network, that learns to map our current belief $(\\boldsymbol{\\mu}, t)$ to an estimate of the underlying data sample $\\hat{\\boldsymbol{x}} = f_{\\boldsymbol{\\theta}}(\\boldsymbol{\\mu}, t)$. The details of the architecture are exchangeable and you could just as well use a U-Net here or something else that fits your data domain.\n",
    "\n",
    "Feel free to [skip ahead to BSI model training](#Training), [ELBO computation](#Likelihoods) or [sampling](#Sampling). In this section, we will build up the DiT part by part."
   ]
  },
  {
   "cell_type": "markdown",
   "id": "a6d8c050-84a4-42b7-8f36-a4472d643dee",
   "metadata": {},
   "source": [
    "### Attention\n",
    "\n",
    "The first piece of code infrastructure is a 1D attention layer to attend to the image patches that the [Vision Transformer](https://arxiv.org/abs/2010.11929) underlying the DiT architecture splits the image into."
   ]
  },
  {
   "cell_type": "code",
   "execution_count": 6,
   "id": "08d49e92-6bb9-4185-8d55-6e3cde0f3cc3",
   "metadata": {
    "jupyter": {
     "source_hidden": true
    }
   },
   "outputs": [],
   "source": [
    "class Attention(nn.Module):\n",
    "    def __init__(self, dim: int, *, heads: int, dropout: float = 0.0):\n",
    "        super().__init__()\n",
    "\n",
    "        self.heads = heads\n",
    "        self.dropout = dropout\n",
    "\n",
    "        self.to_qkv = nn.Linear(dim, dim * 3)\n",
    "        self.to_out = nn.Linear(dim, dim)\n",
    "\n",
    "    def forward(\n",
    "        self, x: Float[Tensor, \"batch patch feature\"]\n",
    "    ) -> Float[Tensor, \"batch patch feature\"]:\n",
    "        q, k, v = eo.rearrange(\n",
    "            self.to_qkv(x), \"b p (qkv h c) -> qkv b h p c\", qkv=3, h=self.heads\n",
    "        ).contiguous()\n",
    "\n",
    "        dropout_p = self.dropout if self.training else 0.0\n",
    "        out = F.scaled_dot_product_attention(q, k, v, dropout_p=dropout_p)\n",
    "\n",
    "        out = eo.rearrange(out, \"b h p c -> b p (h c)\")\n",
    "        return self.to_out(out)"
   ]
  },
  {
   "cell_type": "markdown",
   "id": "084b08f8-0126-407a-8cfe-fedfd742dcf7",
   "metadata": {},
   "source": [
    "### DiT block\n",
    "\n",
    "With the attention module, we can build the DiT block with adaLN-Zero conditioning. They form the central components of a DiT and can be stacked to increase model capacity."
   ]
  },
  {
   "cell_type": "code",
   "execution_count": 7,
   "id": "3d807e0d-cb6d-4737-9d22-8db47113d6a5",
   "metadata": {
    "jupyter": {
     "source_hidden": true
    }
   },
   "outputs": [],
   "source": [
    "class DiTBlock(nn.Module):\n",
    "    \"\"\"A DiT block with adaptive layer norm zero (adaLN-Zero) conditioning.\"\"\"\n",
    "\n",
    "    def __init__(\n",
    "        self, size: int, heads: int, mlp_ratio: int = 4, dropout: float | None = None\n",
    "    ):\n",
    "        super().__init__()\n",
    "\n",
    "        self.norm = nn.LayerNorm(size, elementwise_affine=False)\n",
    "        self.attn = Attention(\n",
    "            size, heads=heads, dropout=dropout if dropout is not None else 0.0\n",
    "        )\n",
    "        self.dropout = nn.Dropout(dropout) if dropout is not None else nn.Identity()\n",
    "        self.mlp = nn.Sequential(\n",
    "            nn.Linear(size, mlp_ratio * size),\n",
    "            nn.GELU(approximate=\"tanh\"),\n",
    "            nn.Linear(mlp_ratio * size, size),\n",
    "        )\n",
    "        # We add a linear layer in front of SiLU, so that not all layers just apply SiLU\n",
    "        # to the exact same t embedding\n",
    "        self.adaLN_modulation = nn.Sequential(\n",
    "            nn.Linear(size, size), nn.SiLU(), nn.Linear(size, 6 * size)\n",
    "        )\n",
    "\n",
    "        # Initialize DiT block as identity (-Zero initialization)\n",
    "        nn.init.constant_(self.adaLN_modulation[-1].weight, 0)\n",
    "        nn.init.constant_(self.adaLN_modulation[-1].bias, 0)\n",
    "\n",
    "    def forward(\n",
    "        self, x: Float[Tensor, \"batch patch feature\"], c: Float[Tensor, \"batch feature\"]\n",
    "    ) -> Float[Tensor, \"batch patch feature\"]:\n",
    "        shift_msa, scale_msa, gate_msa, shift_mlp, scale_mlp, gate_mlp = (\n",
    "            self.adaLN_modulation(c).chunk(6, dim=1)\n",
    "        )\n",
    "        x = torch.addcmul(\n",
    "            x,\n",
    "            gate_msa.unsqueeze(dim=1),\n",
    "            self.attn(self.modulate(self.norm(x), shift_msa, scale_msa)),\n",
    "        )\n",
    "        x = torch.addcmul(\n",
    "            x,\n",
    "            gate_mlp.unsqueeze(dim=1),\n",
    "            self.mlp(self.dropout(self.modulate(self.norm(x), shift_mlp, scale_mlp))),\n",
    "        )\n",
    "        return x\n",
    "\n",
    "    def modulate(\n",
    "        self,\n",
    "        x: Float[Tensor, \"batch patch feature\"],\n",
    "        shift: Float[Tensor, \"batch feature\"],\n",
    "        scale: Float[Tensor, \"batch feature\"],\n",
    "    ) -> Float[Tensor, \"batch patch feature\"]:\n",
    "        \"\"\"Feature modulation.\"\"\"\n",
    "        return torch.addcmul(shift[:, None], scale[:, None] + 1, x)"
   ]
  },
  {
   "cell_type": "markdown",
   "id": "01a709d8-bb35-4768-827c-046705b4221e",
   "metadata": {},
   "source": [
    "### Positional Embeddings\n",
    "\n",
    "The DiT uses positional embeddings in two ways: first, to encode the position of each patch in the 2D image grid and, second, to encode the noise level $t$.\n",
    "\n",
    "Our positional embedding is a sinusoidal one as in [Attention is all you need](https://arxiv.org/abs/1706.03762). We base our choice of minimum and maximum frequency on an approximation and a signal processing argument, respectively, instead of the original, seemingly ad hoc, choices of 1 and $10^{-4}$, but in practice, these seem to make no difference."
   ]
  },
  {
   "cell_type": "code",
   "execution_count": 8,
   "id": "0865f2ce-1119-4549-987d-d5126c53cd82",
   "metadata": {
    "jupyter": {
     "source_hidden": true
    }
   },
   "outputs": [],
   "source": [
    "class NyquistPositionalEmbedding(nn.Module):\n",
    "    \"\"\"Sine-cosine embedding for position `t` in `[0, 1]` that scales from a frequency\n",
    "    of 1/8 to a (< 1) multiple of the Nyquist frequency.\n",
    "\n",
    "    In the original sinusoidal embedding from \"Attention is all you need\" [1], the high\n",
    "    frequencies are so high that the corresponding embedding features are basically\n",
    "    random and the inner product between two embeddings `e(t_0)` and `e(t_1)` becomes\n",
    "    noisy instead of varying smoothly as `t_0 - t_1` grows. At the same time, the\n",
    "    slowest frequency is still so high that no feature just varies linearly with `t`,\n",
    "    which we believe to be important.\n",
    "\n",
    "    We choose 1/8 as the slowest frequency so that the slowest-varying embedding varies\n",
    "    roughly lineary across [0, 2pi] as the relative error between x and sin(x) on [0,\n",
    "    2pi / 8] is at most 2.5%. For the highest frequency, we pick a value dependent on\n",
    "    the Nyquist frequency of the expected sampling rate of the embedding.\n",
    "\n",
    "    The Nyquist frequency is the largest frequency that one can sample at a given rate\n",
    "    without aliasing, so one could assume that to be a great choice for the highest\n",
    "    frequency but sampling sine and cosine at the Nyquist frequency would result in\n",
    "    constant (and therefore uninformative) 1 and 0 features.\n",
    "\n",
    "    Instead, we choose the maximum frequency as Nyquist/(2*phi) where phi is the golden\n",
    "    ratio. The exact choice is arbitrary as long as it is some irrational number\n",
    "    somewhat smaller than the Nyquist frequency. The irrationality ensures that the\n",
    "    high-frequency features do not oscillate between a fixed number of values, e.g. at\n",
    "    Nyquist/2, the fastest-varying feature would just take the values -1, 0 and 1 when\n",
    "    sampled at the given expected rate.\n",
    "\n",
    "    [1] https://arxiv.org/abs/1706.03762\n",
    "    \"\"\"\n",
    "\n",
    "    def __init__(self, size: int, expected_rate: int):\n",
    "        \"\"\"Construct the embedding.\n",
    "\n",
    "        Args:\n",
    "            size: Embedding dimensions.\n",
    "            expected_rate: Expected sampling rate to compute the Nyquist frequency and\n",
    "              thus the frequencies for the embeddings. A value of `10` means that you\n",
    "              expect embeddings to be computed for 1/10, 2/10, ..., 1.\n",
    "        \"\"\"\n",
    "\n",
    "        super().__init__()\n",
    "\n",
    "        self.size = size\n",
    "\n",
    "        assert size % 2 == 0\n",
    "\n",
    "        k = size // 2\n",
    "\n",
    "        # Nyquist frequency for a given sampling rate per unit interval\n",
    "        nyquist_frequency = expected_rate / 2\n",
    "\n",
    "        golden_ratio = (1 + np.sqrt(5)) / 2\n",
    "        frequencies = np.geomspace(1 / 8, nyquist_frequency / (2 * golden_ratio), num=k)\n",
    "\n",
    "        # Sample every frequency twice, once shifted by pi/2 to get cosine\n",
    "        scale = np.repeat(2 * np.pi * frequencies, 2)\n",
    "        bias = np.tile(np.array([0, np.pi / 2]), k)\n",
    "\n",
    "        self.register_buffer(\n",
    "            \"scale\", torch.tensor(scale, dtype=torch.float32), persistent=False\n",
    "        )\n",
    "        self.register_buffer(\n",
    "            \"bias\", torch.tensor(bias, dtype=torch.float32), persistent=False\n",
    "        )\n",
    "\n",
    "    def forward(self, t: Float[Tensor, \"...\"]) -> Float[Tensor, \"... size\"]:\n",
    "        \"\"\"Embed the timestep t into a sine-cosine representation.\n",
    "\n",
    "        Args:\n",
    "            t: Batch of timesteps between 0 and 1.\n",
    "        \"\"\"\n",
    "\n",
    "        return torch.addcmul(self.bias, self.scale, t[..., None]).sin()"
   ]
  },
  {
   "cell_type": "markdown",
   "id": "f3146b27-1647-415d-8263-c67761ed678a",
   "metadata": {},
   "source": [
    "### DiT\n",
    "\n",
    "Now, we combine the pieces into a DiT."
   ]
  },
  {
   "cell_type": "code",
   "execution_count": 9,
   "id": "247567d1-3051-4275-b264-52db838f6c53",
   "metadata": {
    "jupyter": {
     "source_hidden": true
    }
   },
   "outputs": [],
   "source": [
    "class DiT(nn.Module):\n",
    "    \"\"\"Diffusion model with a Transformer backbone [1].\n",
    "\n",
    "    [1] https://arxiv.org/abs/2212.09748\n",
    "    \"\"\"\n",
    "\n",
    "    def __init__(\n",
    "        self,\n",
    "        input_size: tuple[int, int],\n",
    "        patch_size: int,\n",
    "        in_channels: int,\n",
    "        out_channels: int,\n",
    "        hidden_size: int,\n",
    "        depth: int,\n",
    "        heads: int,\n",
    "        mlp_ratio: int,\n",
    "        dropout: float | None,\n",
    "    ):\n",
    "        super().__init__()\n",
    "\n",
    "        self.input_size = input_size\n",
    "        self.patch_size = patch_size\n",
    "        self.in_channels = in_channels\n",
    "        self.out_channels = out_channels\n",
    "\n",
    "        height, width = input_size\n",
    "        patch_area = patch_size**2\n",
    "        patches_h = height // patch_size\n",
    "        patches_w = width // patch_size\n",
    "\n",
    "        # Use fixed Fourier positional embeddings\n",
    "        pos_embedding = NyquistPositionalEmbedding(hidden_size // 2, max(height, width))\n",
    "        pos_h = pos_embedding(torch.linspace(0, 1, patches_h))\n",
    "        pos_w = pos_embedding(torch.linspace(0, 1, patches_w))\n",
    "        pos_embs = torch.cat(\n",
    "            (\n",
    "                eo.repeat(pos_h, \"ph c -> (ph pw) c\", pw=patches_w),\n",
    "                eo.repeat(pos_w, \"pw c -> (ph pw) c\", ph=patches_h),\n",
    "            ),\n",
    "            dim=1,\n",
    "        )\n",
    "        self.register_buffer(\"patch_pos_embedding\", pos_embs, persistent=False)\n",
    "        self.t_embedding = NyquistPositionalEmbedding(hidden_size, 1000)\n",
    "\n",
    "        self.patchify = Rearrange(\n",
    "            \"batch c (nh ps_h) (nw ps_w) -> batch (nh nw) (ps_h ps_w c)\",\n",
    "            ps_h=patch_size,\n",
    "            ps_w=patch_size,\n",
    "        )\n",
    "        self.patch_encoder = nn.Linear(patch_area * in_channels, hidden_size)\n",
    "\n",
    "        self.blocks = nn.ModuleList(\n",
    "            [\n",
    "                DiTBlock(hidden_size, heads, mlp_ratio=mlp_ratio, dropout=dropout)\n",
    "                for _ in range(depth)\n",
    "            ]\n",
    "        )\n",
    "\n",
    "        self.patch_decoder = nn.Sequential(\n",
    "            nn.LayerNorm(hidden_size), nn.Linear(hidden_size, patch_area * out_channels)\n",
    "        )\n",
    "        self.unpatchify = Rearrange(\n",
    "            \"batch (nh nw) (ps_h ps_w c) -> batch c (nh ps_h) (nw ps_w)\",\n",
    "            nh=height // patch_size,\n",
    "            nw=width // patch_size,\n",
    "            ps_h=patch_size,\n",
    "            ps_w=patch_size,\n",
    "        )\n",
    "\n",
    "    def forward(\n",
    "        self, x: Float[Tensor, \"batch channel height width\"], t: Float[Tensor, \"batch\"]\n",
    "    ) -> Float[Tensor, \"batch channel height width\"]:\n",
    "        c = self.t_embedding(t)\n",
    "        x = self.patch_encoder(self.patchify(x)) + self.patch_pos_embedding\n",
    "        for block in self.blocks:\n",
    "            x = block(x, c)\n",
    "        return self.unpatchify(self.patch_decoder(x))"
   ]
  },
  {
   "cell_type": "markdown",
   "id": "0805aa27-c3ed-4dc8-8f40-971a66a3976c",
   "metadata": {},
   "source": [
    "### Fourier Features\n",
    "\n",
    "Next, we have a module that computes Fourier features as proposed in [Variational Diffusion Models](https://arxiv.org/abs/2006.10739). In the end, these are sinusoidal embeddings for each input feature that help the neural network distinguish small variations of features at very low noise levels and are essential to achieve high likelihoods."
   ]
  },
  {
   "cell_type": "code",
   "execution_count": 10,
   "id": "fcaf4ea7-6df1-49ca-bd63-f1f942aab318",
   "metadata": {
    "jupyter": {
     "source_hidden": true
    }
   },
   "outputs": [],
   "source": [
    "class FourierFeatures(nn.Module):\n",
    "    \"\"\"Compute Fourier features as proposed in the VDM paper [1].\n",
    "\n",
    "    [1] https://arxiv.org/abs/2006.10739\n",
    "    \"\"\"\n",
    "\n",
    "    def __init__(self, *, n_min: int, n_max: int):\n",
    "        super().__init__()\n",
    "\n",
    "        self.n_min = n_min\n",
    "        self.n_max = n_max\n",
    "\n",
    "        ns = torch.arange(n_min, n_max + 1)\n",
    "        self.register_buffer(\"coefs\", 2 * torch.pi * 2**ns, persistent=False)\n",
    "        self.register_buffer(\"offsets\", torch.tensor([0, torch.pi / 2]), persistent=False)\n",
    "\n",
    "    def n_features(self):\n",
    "        return len(self.coefs) * len(self.offsets)\n",
    "\n",
    "    def forward(self, x: Tensor, *, dim: int) -> Tensor:\n",
    "        assert dim >= 0, \"Implementation expects a non-negative dimension index\"\n",
    "\n",
    "        # Multiply each feature with each frequency and add each offset by expanding the\n",
    "        # channel dimension twice and then aligning the cofficient and offset tensors\n",
    "        # with them.\n",
    "        right_dims = x.dim() - dim - 1\n",
    "        x = x.unsqueeze(dim + 1).unsqueeze(dim + 1)\n",
    "        coefs = self.coefs.view((-1, *([1] * (right_dims + 1))))\n",
    "        offsets = self.offsets.view((-1, *([1] * right_dims)))\n",
    "        args = torch.addcmul(offsets, coefs, x)\n",
    "\n",
    "        return args.sin().flatten(start_dim=dim, end_dim=dim + 2)"
   ]
  },
  {
   "cell_type": "markdown",
   "id": "e035c76f-8074-408d-8f77-fa39ee1e9ac4",
   "metadata": {},
   "source": [
    "### Denoising Model\n",
    "\n",
    "Our final denoising model $f_{\\boldsymbol{\\theta}}$ computes Fourier features for $\\boldsymbol{\\mu}$ and passes the result into a DiT."
   ]
  },
  {
   "cell_type": "code",
   "execution_count": 11,
   "id": "c955e159-d0a8-41c2-8283-013b7bb3cb48",
   "metadata": {},
   "outputs": [],
   "source": [
    "class DenoisingDiT(nn.Module):\n",
    "    \"\"\"Diffusion Transformer.\"\"\"\n",
    "\n",
    "    def __init__(\n",
    "        self,\n",
    "        *,\n",
    "        data_shape: tuple[int, ...],\n",
    "        patch_size: int,\n",
    "        dim: int,\n",
    "        depth: int,\n",
    "        heads: int,\n",
    "        dropout: float | None = None,\n",
    "    ):\n",
    "        super().__init__()\n",
    "\n",
    "        self.data_shape = tuple(data_shape)\n",
    "        self.fourier_features = FourierFeatures(n_min=6, n_max=8)\n",
    "\n",
    "        assert len(self.data_shape) == 3, \"Only works for 2D images\"\n",
    "\n",
    "        n_channels = data_shape[0]\n",
    "        in_channels = n_channels * (1 + self.fourier_features.n_features())\n",
    "        out_channels = n_channels\n",
    "\n",
    "        self.dit = DiT(\n",
    "            input_size=data_shape[1:],\n",
    "            patch_size=patch_size,\n",
    "            in_channels=in_channels,\n",
    "            out_channels=out_channels,\n",
    "            hidden_size=dim,\n",
    "            depth=depth,\n",
    "            heads=heads,\n",
    "            mlp_ratio=4,\n",
    "            dropout=dropout,\n",
    "        )\n",
    "\n",
    "    def forward(\n",
    "        self, mu: Float[Tensor, \"batch data_shape\"], t: Float[Tensor, \"batch\"]\n",
    "    ) -> Float[Tensor, \"batch data_shape\"]:\n",
    "        return self.dit(torch.cat([mu, self.fourier_features(mu, dim=1)], dim=1), t)"
   ]
  },
  {
   "cell_type": "markdown",
   "id": "df410010-2a02-414a-8751-348fd84573b0",
   "metadata": {},
   "source": [
    "### Preconditioning\n",
    "\n",
    "As the last piece, we add a preconditioning wrapper that\n",
    "1. converts the $\\lambda$ argument into a $t \\in [0, 1]$ via the inverse CDF of $p(\\lambda)$ to transform it into a better feature for a neural network and\n",
    "2. applies the preconditioning skip connection described in Section 5.1 of [the paper](https://arxiv.org/pdf/2502.07580)."
   ]
  },
  {
   "cell_type": "code",
   "execution_count": 12,
   "id": "24427590-3de2-46d8-b670-fa14bb298ec2",
   "metadata": {},
   "outputs": [],
   "source": [
    "class Preconditioning(nn.Module):\n",
    "    def __init__(self, model: DenoisingDiT, p_lambda: LogUniform):\n",
    "        super().__init__()\n",
    "\n",
    "        self.model = model\n",
    "        self.p_lambda = p_lambda\n",
    "\n",
    "    def forward(\n",
    "        self, mu: Float[Tensor, \"batch data_shape\"], lambda_: Float[Tensor, \"batch\"]\n",
    "    )  -> Float[Tensor, \"batch data_shape\"]:\n",
    "        # Preconditioning parameters\n",
    "        lambda_0 = self.p_lambda.low\n",
    "        alpha = lambda_ - lambda_0\n",
    "        # Written in this way to avoid squaring alpha for float stability\n",
    "        kappa = 1 + alpha * (alpha / lambda_)\n",
    "        c_skip = alpha / kappa\n",
    "        c_out = torch.rsqrt(kappa)\n",
    "        c_in = torch.sqrt(lambda_ / kappa)\n",
    "\n",
    "        t = self.p_lambda.cdf(lambda_)\n",
    "        return broadcast_right(c_skip, mu) * mu + broadcast_right(c_out, mu) * self.model(broadcast_right(c_in, mu) * mu, t)"
   ]
  },
  {
   "attachments": {},
   "cell_type": "markdown",
   "id": "9e2c9aed-3ead-477e-8c7d-ac0a7cd127ea",
   "metadata": {},
   "source": [
    "# Training\n",
    "\n",
    "To train the model, we implement Algorithm 2 from the paper.\n",
    "\n",
    "![](figures/algorithm-loss.webp)"
   ]
  },
  {
   "cell_type": "code",
   "execution_count": 13,
   "id": "1305815e-774f-4525-98e6-9717e4c10ae6",
   "metadata": {},
   "outputs": [],
   "source": [
    "def bsi_train_loss(\n",
    "    model: nn.Module,\n",
    "    p_lambda: LogUniform,\n",
    "    x: Float[Tensor, \"batch channels height width\"],\n",
    "    generator: torch.Generator | None = None\n",
    ") -> Float[Tensor, \"batch\"]:\n",
    "    batch_size = x.shape[0]\n",
    "    t = torch.rand(batch_size, dtype=x.dtype, device=x.device, generator=generator)\n",
    "    epsilon = torch.randn(x.shape, dtype=x.dtype, device=x.device, generator=generator)\n",
    "    lambda_ = p_lambda.icdf(t)\n",
    "    lambda_0 = p_lambda.low\n",
    "    mu_lambda = broadcast_right((lambda_ - lambda_0) / lambda_, x) * x + broadcast_right(torch.rsqrt(lambda_), epsilon) * epsilon\n",
    "    # This is the same as the infinite step measurement loss L_M^infty in the paper but we take the mean here to\n",
    "    # make the magnitude of the loss independent of the data dimension and save us the multiplication by 1/2.\n",
    "    return p_lambda.diff_ln_high_ln_low * lambda_ * eo.reduce((x - model(mu_lambda, lambda_))**2, \"batch ... -> batch\", \"mean\")"
   ]
  },
  {
   "cell_type": "markdown",
   "id": "032985bc-9f71-427a-bafd-5cb7df44ba45",
   "metadata": {},
   "source": [
    "Now we choose the BSI hyperparameters $\\lambda_0$, $\\alpha_M$ and instantiate the model. Note that the CPU and GPU model configurations in the cells below are optimized for quick, interactive exploration and fast training. To achieve excellent likelihoods and high sample quality, please refer to the settings described in the paper and the experiments configurations in the [paper repository](https://github.com/martenlienen/bis).\n",
    "\n",
    "The configuration below trains for about half hour on a GTX1080."
   ]
  },
  {
   "cell_type": "code",
   "execution_count": 14,
   "id": "d18f632c-7457-4110-a745-7341203d4bca",
   "metadata": {},
   "outputs": [],
   "source": [
    "lambda_0 = 1e-2\n",
    "alpha_M = 1e6\n",
    "alpha_R = 2 * alpha_M\n",
    "\n",
    "batch_size = 128\n",
    "n_epochs = 50\n",
    "seed = 851\n",
    "\n",
    "if torch.cuda.is_available():\n",
    "    # A small GPU configuration\n",
    "    model_params = {\"dim\": 128, \"depth\": 12, \"patch_size\": 4, \"heads\": 1}\n",
    "    device = torch.device(\"cuda\")\n",
    "\n",
    "    # The configuration used in the paper for CIFAR10\n",
    "    #model_params = {\"dim\": 128, \"depth\": 32, \"patch_size\": 2, \"heads\": 1}\n",
    "else:\n",
    "    # A tiny CPU configuration\n",
    "    model_params = {\"dim\": 128, \"depth\": 4, \"patch_size\": 4, \"heads\": 1}\n",
    "    device = torch.device(\"cpu\")"
   ]
  },
  {
   "cell_type": "markdown",
   "id": "1a41d927-5c2d-4222-a2c0-42e4e19ddcc6",
   "metadata": {},
   "source": [
    "From the hyperparameters, we create the importance sampling distribution and instantiate the model."
   ]
  },
  {
   "cell_type": "code",
   "execution_count": 15,
   "id": "16827a50-4be2-4179-aed8-b532e8601ce6",
   "metadata": {},
   "outputs": [],
   "source": [
    "lambda_M = lambda_0 + alpha_M\n",
    "p_lambda = LogUniform(lambda_0, lambda_M)\n",
    "\n",
    "inner_model = DenoisingDiT(data_shape=(3, 32, 32), dropout=0.1, **model_params)\n",
    "model = Preconditioning(inner_model, p_lambda)\n",
    "model.to(device);"
   ]
  },
  {
   "cell_type": "markdown",
   "id": "35bfde74-337d-42d3-9d89-942d08dea858",
   "metadata": {},
   "source": [
    "It remains to load the training data, configure the optimizer and fix a generator for reproducible training noise."
   ]
  },
  {
   "cell_type": "code",
   "execution_count": 16,
   "id": "d5c1998e-9729-4aa6-810a-ac9486a53301",
   "metadata": {},
   "outputs": [],
   "source": [
    "transforms = v2.Compose(\n",
    "    [v2.ToImage(), v2.ToDtype(dtype=torch.float32, scale=True), v2.Normalize(mean=[0.5], std=[0.5])])\n",
    "train_data = CIFAR10(\"./data/cifar10/\", train=True, download=True, transform=transforms)\n",
    "\n",
    "shuffle_generator = torch.Generator().manual_seed(seed)\n",
    "loader = DataLoader(train_data, batch_size=batch_size, shuffle=True, generator=shuffle_generator)\n",
    "opt = torch.optim.AdamW(model.parameters(), lr=2e-4)\n",
    "generator = torch.Generator(device).manual_seed(seed)"
   ]
  },
  {
   "cell_type": "markdown",
   "id": "534845e8-4541-4904-b8c0-ece5cf3113d3",
   "metadata": {},
   "source": [
    "The following cell is just a simple training loop."
   ]
  },
  {
   "cell_type": "code",
   "execution_count": 17,
   "id": "80baafc7-7365-4adb-bc88-ea834396004e",
   "metadata": {},
   "outputs": [
    {
     "data": {
      "application/vnd.jupyter.widget-view+json": {
       "model_id": "5073943a28d247178d0b11043e9a57af",
       "version_major": 2,
       "version_minor": 0
      },
      "text/plain": [
       "Epoch 50:   0%|          | 0/391 [00:00<?, ?it/s]"
      ]
     },
     "metadata": {},
     "output_type": "display_data"
    }
   ],
   "source": [
    "losses = []\n",
    "model.train()\n",
    "for epoch in range(n_epochs):\n",
    "    bar = tqdm(loader, desc=f\"Epoch {epoch + 1}\", leave=epoch == n_epochs - 1)\n",
    "    for i, (x, _) in enumerate(bar):\n",
    "        loss = bsi_train_loss(model, p_lambda, x.to(device), generator).mean()\n",
    "    \n",
    "        opt.zero_grad()\n",
    "        loss.backward()\n",
    "        opt.step()\n",
    "    \n",
    "        losses.append(loss.item())\n",
    "        bar.set_postfix(loss=np.mean(losses[-100:]))"
   ]
  },
  {
   "cell_type": "markdown",
   "id": "668d441e-adf0-4900-8d57-9d781cd30cfe",
   "metadata": {},
   "source": [
    "## Likelihoods\n",
    "\n",
    "With the trained model, we can now estimate a lower bound (ELBO) on the likelihood $p(x)$ in bits per dimension that the trained model assigns to a data sample $x$.\n",
    "\n",
    "The most complex part of this is to compute the reconstruction loss correctly where we need to work with a discretized Gaussian likelihood."
   ]
  },
  {
   "cell_type": "code",
   "execution_count": 18,
   "id": "10747e4e-a960-4adc-941f-fed96d74bf2b",
   "metadata": {},
   "outputs": [],
   "source": [
    "def bsi_reconstruction_loss(\n",
    "    model: nn.Module,\n",
    "    p_lambda: LogUniform,\n",
    "    alpha_R: float,\n",
    "    x: Float[Tensor, \"batch channels height width\"],\n",
    "    generator: torch.Generator | None = None\n",
    ") -> Float[Tensor, \"batch\"]:\n",
    "    \"\"\"Estimate the reconstruction loss L_R.\"\"\"\n",
    "\n",
    "    lambda_0 = p_lambda.low\n",
    "    lambda_M = p_lambda.high\n",
    "    mu_lambda_M = (\n",
    "        ((lambda_M - lambda_0) / lambda_M) * x +\n",
    "        x / math.sqrt(lambda_M) *\n",
    "        torch.randn(x.shape, device=x.device, dtype=x.dtype, generator=generator)\n",
    "    )\n",
    "    x_hat = model(mu_lambda_M, x.new_full((x.shape[0],), lambda_M))\n",
    "\n",
    "    p_recon = Normal(\n",
    "        x_hat, torch.full_like(x_hat, 1 / math.sqrt(alpha_R)), validate_args=False\n",
    "    )\n",
    "    discretization = Discretization.image_8bit()\n",
    "    boundaries = discretization.bin_boundaries(x.device, x.dtype)\n",
    "    x_idx = discretization.bucketize(x)\n",
    "    cdf_left = p_recon.cdf(boundaries[x_idx])\n",
    "    cdf_right = p_recon.cdf(boundaries[x_idx + 1])\n",
    "    cdf_left_clamped = torch.where(x_idx == 0, 0, cdf_left)\n",
    "    cdf_right_clamped = torch.where(x_idx == discretization.k - 1, 1, cdf_right)\n",
    "    log_p_per_dim = torch.log(\n",
    "        torch.clamp(cdf_right_clamped - cdf_left_clamped, min=1e-20)\n",
    "    )\n",
    "\n",
    "    return eo.reduce(-log_p_per_dim, \"batch ... -> batch\", \"sum\")"
   ]
  },
  {
   "cell_type": "markdown",
   "id": "97c3565b-ab3d-403e-9487-0d655d6ebde0",
   "metadata": {},
   "source": [
    "The measurement loss is basically the same as the train loss except that we take the sum instead of the mean over data dimensions and multiply by 1/2."
   ]
  },
  {
   "cell_type": "code",
   "execution_count": 19,
   "id": "4469c374-72c4-45ae-b66b-77bc6b810f55",
   "metadata": {},
   "outputs": [],
   "source": [
    "def bsi_measurement_loss(\n",
    "    model: nn.Module,\n",
    "    p_lambda: LogUniform,\n",
    "    x: Float[Tensor, \"batch channels height width\"],\n",
    "    generator: torch.Generator | None = None\n",
    ") -> Float[Tensor, \"batch\"]:\n",
    "    batch_size = x.shape[0]\n",
    "    t = torch.rand(batch_size, dtype=x.dtype, device=x.device, generator=generator)\n",
    "    epsilon = torch.randn(x.shape, dtype=x.dtype, device=x.device, generator=generator)\n",
    "    lambda_ = p_lambda.icdf(t)\n",
    "    lambda_0 = p_lambda.low\n",
    "    mu_lambda = broadcast_right((lambda_ - lambda_0) / lambda_, x) * x + broadcast_right(torch.rsqrt(lambda_), epsilon) * epsilon\n",
    "    return 0.5 * p_lambda.reciprocal_pdf(lambda_) * eo.reduce((x - model(mu_lambda, lambda_))**2, \"batch ... -> batch\", \"sum\")"
   ]
  },
  {
   "cell_type": "code",
   "execution_count": 20,
   "id": "15431927-9732-4b01-9f68-017050f60ed4",
   "metadata": {},
   "outputs": [],
   "source": [
    "def bsi_likelihood_bpd(\n",
    "    model: nn.Module,\n",
    "    p_lambda: LogUniform,\n",
    "    alpha_R: float,\n",
    "    x: Float[Tensor, \"batch channels height width\"],\n",
    "    generator: torch.Generator | None = None\n",
    ") -> Float[Tensor, \"batch\"]:\n",
    "    \"\"\"Estimate the ELBO in bits per dimension.\"\"\"\n",
    "\n",
    "    l_measure = bsi_measurement_loss(model, p_lambda, x, generator)\n",
    "    l_recon = bsi_reconstruction_loss(model, p_lambda, alpha_R, x, generator)\n",
    "    # ELBO is just the negative sum of the two components\n",
    "    elbo = -(l_recon + l_measure)\n",
    "\n",
    "    # Convert to bits per dimension\n",
    "    n_dim = math.prod(x.shape[1:])\n",
    "    bpd = (-1 / (math.log(2) * n_dim)) * elbo\n",
    "\n",
    "    return bpd"
   ]
  },
  {
   "cell_type": "markdown",
   "id": "a4a88ccf-4d0f-465d-9011-4ba660bd8c53",
   "metadata": {},
   "source": [
    "Now, we can estimate the ELBO over the test set."
   ]
  },
  {
   "cell_type": "code",
   "execution_count": 21,
   "id": "fe83d67f-ac82-4e72-ad3c-3af52194d9ab",
   "metadata": {},
   "outputs": [],
   "source": [
    "test_data = CIFAR10(\"./data/cifar10/\", train=False, download=True, transform=transforms)"
   ]
  },
  {
   "cell_type": "code",
   "execution_count": 22,
   "id": "3dbab82f-53c9-4cff-a1a8-8eb08cecf259",
   "metadata": {},
   "outputs": [
    {
     "data": {
      "application/vnd.jupyter.widget-view+json": {
       "model_id": "7a4df7a4fc234ef7b06daa84cb3e6455",
       "version_major": 2,
       "version_minor": 0
      },
      "text/plain": [
       "Evaluate bpd:   0%|          | 0/79 [00:00<?, ?it/s]"
      ]
     },
     "metadata": {},
     "output_type": "display_data"
    },
    {
     "name": "stdout",
     "output_type": "stream",
     "text": [
      "Average ELBO in bpd on the test set: 4.23\n"
     ]
    }
   ],
   "source": [
    "bpds = []\n",
    "generator = torch.Generator(device).manual_seed(seed)\n",
    "with torch.inference_mode():\n",
    "    model.eval()\n",
    "    loader = DataLoader(test_data, batch_size=batch_size)\n",
    "    bar = tqdm(loader, desc=\"Evaluate bpd\", leave=False)\n",
    "    for x, _ in bar:\n",
    "        bpd = bsi_likelihood_bpd(model, p_lambda, alpha_R, x.to(device), generator)\n",
    "        bpds.append(bpd)\n",
    "        bar.set_postfix(bpd=bpd.mean().item())\n",
    "bpds = torch.cat(bpds)\n",
    "\n",
    "print(f\"Average ELBO in bpd on the test set: {bpds.mean():.2f}\")"
   ]
  },
  {
   "cell_type": "markdown",
   "id": "32fac904-f743-4ec5-9808-0991be8806d8",
   "metadata": {},
   "source": [
    "## Sampling\n",
    "\n",
    "Sampling with a trained BSI model just needs the following algorithm:\n",
    "\n",
    "![](figures/algorithm-sampling.webp)"
   ]
  },
  {
   "cell_type": "code",
   "execution_count": 23,
   "id": "4a939371-b056-43b6-b005-7f92d66bf128",
   "metadata": {},
   "outputs": [],
   "source": [
    "def bsi_sample(\n",
    "    model: nn.Module,\n",
    "    p_lambda: LogUniform,\n",
    "    batch_size: int,\n",
    "    k: int,\n",
    "    generator: torch.Generator | None = None\n",
    ") -> Float[Tensor, \"batch channel height width\"]:\n",
    "    lambda_0 = torch.tensor(p_lambda.low, device=device)\n",
    "    alphas = p_lambda.icdf(torch.linspace(0, 1, k + 1, device=device)).diff()\n",
    "    epsilon_0, *epsilons = torch.randn((k + 1, batch_size, *model.model.data_shape), device=device)\n",
    "    mu = torch.rsqrt(lambda_0) * epsilon_0\n",
    "    lambda_ = eo.repeat(lambda_0, \"-> b\", b=batch_size)\n",
    "    for alpha, epsilon in zip(alphas, epsilons):\n",
    "        x_hat = model(mu, lambda_)\n",
    "        lambda_next = lambda_ + alpha\n",
    "        mu = (broadcast_right(lambda_, mu) * mu + alpha * (x_hat + torch.rsqrt(alpha) * epsilon)) / broadcast_right(lambda_next, mu)\n",
    "        lambda_ = lambda_next\n",
    "    return model(mu, lambda_)"
   ]
  },
  {
   "cell_type": "markdown",
   "id": "2907b99a-68ce-495c-a7b1-4e29f6a78fe0",
   "metadata": {},
   "source": [
    "Let's generate a few samples and visualize them."
   ]
  },
  {
   "cell_type": "code",
   "execution_count": 24,
   "id": "3b9ddd10-bfae-43d3-ad9c-2cb6dce5a279",
   "metadata": {},
   "outputs": [
    {
     "data": {
      "text/plain": [
       "<matplotlib.image.AxesImage at 0x73e46d9ab4d0>"
      ]
     },
     "execution_count": 24,
     "metadata": {},
     "output_type": "execute_result"
    },
    {
     "data": {
      "image/png": "[encoded data removed]",
      "text/plain": [
       "<Figure size 908.8x681.6 with 1 Axes>"
      ]
     },
     "metadata": {
      "image/png": {
       "height": 681,
       "width": 908
      }
     },
     "output_type": "display_data"
    }
   ],
   "source": [
    "generator = torch.Generator(device).manual_seed(seed)\n",
    "with torch.inference_mode():\n",
    "    model.eval()\n",
    "    samples = bsi_sample(model, p_lambda, batch_size=16, k=100, generator=generator)\n",
    "\n",
    "img_grid = make_grid(samples.cpu(), nrow=4, normalize=True, value_range=(-1, 1))\n",
    "imshow(torch.movedim(img_grid, 0, -1))"
   ]
  }
 ],
 "metadata": {
  "kernelspec": {
   "display_name": "Python 3 (ipykernel)",
   "language": "python",
   "name": "python3"
  },
  "language_info": {
   "codemirror_mode": {
    "name": "ipython",
    "version": 3
   },
   "file_extension": ".py",
   "mimetype": "text/x-python",
   "name": "python",
   "nbconvert_exporter": "python",
   "pygments_lexer": "ipython3",
   "version": "3.13.2"
  }
 },
 "nbformat": 4,
 "nbformat_minor": 5
}
